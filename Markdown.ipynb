{
 "cells": [
  {
   "cell_type": "markdown",
   "metadata": {},
   "source": [
    "## WEB SCRAPING \n",
    "   ##### by Olujimi Fashoyin\n",
    "   \n",
    "#### Introduction:\n",
    "> This project is done to scrape the top 30 daily trends on boomplay. As boomplay keeps on updating this data it would grab the current data when the program is re-run. Detailed comments are made for beginners.\n",
    "#### Libraries Used:\n",
    "__click the libraries to open the documentations__\n",
    " -  [Pandas](https://pandas.pydata.org/docs/index.html)\n",
    " -  [re](https://docs.python.org/3/library/re.html)\n",
    " -  [BeautifulSoup]()\n",
    " - [requests](https://www.crummy.com/software/BeautifulSoup/bs4/doc/)\n",
    " - [datetime](https://docs.python.org/3/library/datetime.html)"
   ]
  }
 ],
 "metadata": {
  "kernelspec": {
   "display_name": "Python 3",
   "language": "python",
   "name": "python3"
  },
  "language_info": {
   "codemirror_mode": {
    "name": "ipython",
    "version": 3
   },
   "file_extension": ".py",
   "mimetype": "text/x-python",
   "name": "python",
   "nbconvert_exporter": "python",
   "pygments_lexer": "ipython3",
   "version": "3.8.3"
  }
 },
 "nbformat": 4,
 "nbformat_minor": 4
}
