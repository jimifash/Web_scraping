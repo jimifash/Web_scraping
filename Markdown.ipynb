{
 "cells": [
  {
   "cell_type": "markdown",
   "metadata": {},
   "source": [
    "## WEB SCRAPING \n",
    "   ##### by Olujimi Fashoyin\n",
    "   \n",
    "#### Introduction:\n",
    "> This project is done to scrape the top 30 daily trends on boomplay. As boomplay keeps on updating this data it would grab the current data when the program is re-run. Detailed comments are made for beginners.\n",
    "#### Libraries Used:\n",
    "__click the libraries to open the documentations__\n",
    " -  [Pandas](https://pandas.pydata.org/docs/index.html)\n",
    " -  [re](https://docs.python.org/3/library/re.html)\n",
    " -  [BeautifulSoup]()\n",
    " - [requests](https://www.crummy.com/software/BeautifulSoup/bs4/doc/)\n",
    " - [datetime](https://docs.python.org/3/library/datetime.html)\n",
    " \n",
    " \n",
    "## Addition on the 27th September 2023\n",
    "- Movie Recommendation using sklearn and nltk libraries\n",
    "\n",
    "###### How to use:\n",
    "- First run the scraping file in other to scrape the latest data from boomplay\n",
    "- Second, run the Music Recommendation file \n",
    "- Third, you can now ask for recommendation by typing your song in the cell where there is a prompt \"Enter your song\" at the buttom"
   ]
  },
  {
   "cell_type": "code",
   "execution_count": null,
   "metadata": {},
   "outputs": [],
   "source": []
  }
 ],
 "metadata": {
  "kernelspec": {
   "display_name": "Python 3 (ipykernel)",
   "language": "python",
   "name": "python3"
  },
  "language_info": {
   "codemirror_mode": {
    "name": "ipython",
    "version": 3
   },
   "file_extension": ".py",
   "mimetype": "text/x-python",
   "name": "python",
   "nbconvert_exporter": "python",
   "pygments_lexer": "ipython3",
   "version": "3.11.3"
  }
 },
 "nbformat": 4,
 "nbformat_minor": 4
}
